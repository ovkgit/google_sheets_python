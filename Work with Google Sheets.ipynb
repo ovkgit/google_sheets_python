{
 "cells": [
  {
   "cell_type": "markdown",
   "metadata": {},
   "source": [
    "## Работа с Google Sheets"
   ]
  },
  {
   "cell_type": "markdown",
   "metadata": {},
   "source": [
    "Поработаем над более практической задачей. Научимся создавать Google-таблицы, вставлять в них данные, красить ячейки, выделять заголовки, и читать данные из уже созданных таблиц.\n",
    "\n",
    "Для этого придется зарегистрироваться на Google, настроить проект и локально, на ваш компьютер, установить необходимые библиотеки.\n",
    "\n",
    "Вся работа будет вестись только через эти библиотеки, никаких запросов напрямую, как в предыдущем примере.\n",
    "\n",
    "Официальная документация на английском языке находится по адресу https://developers.google.com/sheets/"
   ]
  },
  {
   "cell_type": "markdown",
   "metadata": {},
   "source": [
    "## Регистрация в сервисах Google и установка библиотек"
   ]
  },
  {
   "cell_type": "markdown",
   "metadata": {},
   "source": [
    "Сначала нужно зарегистрироваться на gmail.com (это вы можете сделать самостоятельно).\n",
    "Потом нужно создать проект (так Google предоставляет доступ к своим сервисам).\n",
    "\n",
    "Это долгий и нудный процесс, который позволяет понять, почему интерфейсы разработчиков Гугл называют самыми неудобными в мире (некоторые считают, что социальная сеть Google+ не взлетела именно по этой причине).\n",
    "\n",
    "Для этого зайдите на страницу\n",
    "https://console.developers.google.com/cloud-resource-manager и нажать “Создать проект”\n"
   ]
  },
  {
   "cell_type": "markdown",
   "metadata": {},
   "source": [
    "<img src=\"img/Task09_01.jpg\">"
   ]
  },
  {
   "cell_type": "markdown",
   "metadata": {},
   "source": [
    "Введите имя проекта и нажмите “Создать”"
   ]
  },
  {
   "cell_type": "markdown",
   "metadata": {},
   "source": [
    "<img src=\"img/Task09_02.jpg\">"
   ]
  },
  {
   "cell_type": "markdown",
   "metadata": {},
   "source": [
    "В обновленном списке проектов зайдите в меню “Права доступа”"
   ]
  },
  {
   "cell_type": "markdown",
   "metadata": {},
   "source": [
    "<img src=\"img/Task09_03.jpg\">"
   ]
  },
  {
   "cell_type": "markdown",
   "metadata": {},
   "source": [
    "В открывшемся окне нажмите “Добавить”, внесите свой email с домена gmail.com и выберите группу “Проект” - “Владелец”"
   ]
  },
  {
   "cell_type": "markdown",
   "metadata": {},
   "source": [
    "<img src=\"img/Task09_04.jpg\">"
   ]
  },
  {
   "cell_type": "markdown",
   "metadata": {},
   "source": [
    "Сохраните изменения.\n",
    "\n",
    "Может показаться странным, что вы создали проект но вынуждены сами себе выдавать права. И это на самом деле странно, но именно такой путь пришлось пройти на момент написания этого курса, чтобы все начало работать как надо.\n",
    "\n",
    "\n",
    "Снова зайдите на страницу https://console.developers.google.com/cloud-resource-manager\n",
    "\n",
    "Выберите на своем проекте меню “Настройки” \n"
   ]
  },
  {
   "cell_type": "markdown",
   "metadata": {},
   "source": [
    "<img src=\"img/Task09_05.jpg\">"
   ]
  },
  {
   "cell_type": "markdown",
   "metadata": {},
   "source": [
    "В открывшемся окне выберите “Сервисные аккаунты”, а затем “Создать сервисный аккаунт”"
   ]
  },
  {
   "cell_type": "markdown",
   "metadata": {},
   "source": [
    "<img src=\"img/Task09_06.jpg\">"
   ]
  },
  {
   "cell_type": "markdown",
   "metadata": {},
   "source": [
    "Введите название аккаунта и нажмите “Создать”"
   ]
  },
  {
   "cell_type": "markdown",
   "metadata": {},
   "source": [
    "<img src=\"img/Task09_07.jpg\">"
   ]
  },
  {
   "cell_type": "markdown",
   "metadata": {},
   "source": [
    "Выберите роль “Владелец” и нажмите “Продолжить” "
   ]
  },
  {
   "cell_type": "markdown",
   "metadata": {},
   "source": [
    "<img src=\"img/Task09_08.jpg\">"
   ]
  },
  {
   "cell_type": "markdown",
   "metadata": {},
   "source": [
    "В появившемся окне нажмите \"Создать ключ\""
   ]
  },
  {
   "cell_type": "markdown",
   "metadata": {},
   "source": [
    "<img src=\"img/Task09_09.jpg\">"
   ]
  },
  {
   "cell_type": "markdown",
   "metadata": {},
   "source": [
    "Выберите тип ключа “json” и нажмите “Создать”"
   ]
  },
  {
   "cell_type": "markdown",
   "metadata": {},
   "source": [
    "<img src=\"img/Task09_10.jpg\">"
   ]
  },
  {
   "cell_type": "markdown",
   "metadata": {},
   "source": [
    "Будет создан и сразу же скачан файл с ключами. Сохраните его, именно благодаря ему мы сможем получать доступ к сервисам Гугл.\n",
    "\n",
    "Нажмите на кнопку с тремя горизонтальными штрихами, слева от надписи “Google APIs”, выберите пункт “API и сервисы”, а в нем подпункт “Панель управления”."
   ]
  },
  {
   "cell_type": "markdown",
   "metadata": {},
   "source": [
    "<img src=\"img/Task09_11.jpg\">"
   ]
  },
  {
   "cell_type": "markdown",
   "metadata": {},
   "source": [
    "В открывшемся окне нажмите “Включить API и сервисы”"
   ]
  },
  {
   "cell_type": "markdown",
   "metadata": {},
   "source": [
    "<img src=\"img/Task09_12.jpg\">"
   ]
  },
  {
   "cell_type": "markdown",
   "metadata": {},
   "source": [
    "Введите в строку поиска “google drive” и кликните на сервисе “Google Drive API”"
   ]
  },
  {
   "cell_type": "markdown",
   "metadata": {},
   "source": [
    "<img src=\"img/Task09_13.jpg\">"
   ]
  },
  {
   "cell_type": "markdown",
   "metadata": {},
   "source": [
    "Нажмите “Включить”"
   ]
  },
  {
   "cell_type": "markdown",
   "metadata": {},
   "source": [
    "<img src=\"img/Task09_14.jpg\">"
   ]
  },
  {
   "cell_type": "markdown",
   "metadata": {},
   "source": [
    "Сайт уведомит вас, что API включено и предупредит, что нужно создать учетные данные. Игнорируйте это предупреждение (мы уже создали сервисный аккаунт, но по непонятной причине Гугл забыл об этом)."
   ]
  },
  {
   "cell_type": "markdown",
   "metadata": {},
   "source": [
    "<img src=\"img/Task09_15.jpg\">"
   ]
  },
  {
   "cell_type": "markdown",
   "metadata": {},
   "source": [
    "Снова заходите в панель управления"
   ]
  },
  {
   "cell_type": "markdown",
   "metadata": {},
   "source": [
    "<img src=\"img/Task09_16.jpg\">"
   ]
  },
  {
   "cell_type": "markdown",
   "metadata": {},
   "source": [
    "В открывшемся окне нажмите “Включить API и сервисы”"
   ]
  },
  {
   "cell_type": "markdown",
   "metadata": {},
   "source": [
    "<img src=\"img/Task09_12.jpg\">"
   ]
  },
  {
   "cell_type": "markdown",
   "metadata": {},
   "source": [
    "Введите в строку поиска “sheet” и кликните на сервисе “Google Sheets API”"
   ]
  },
  {
   "cell_type": "markdown",
   "metadata": {},
   "source": [
    "<img src=\"img/Task09_17.jpg\">"
   ]
  },
  {
   "cell_type": "markdown",
   "metadata": {},
   "source": [
    "Убедитесь, что это API подключено. Оно должно включиться автоматически, при подключении Google Drive API. Если оно подключено, вы увидите кнопку “Управление API”, если нет - кнопку “Включить”. Включите его, при необходимости."
   ]
  },
  {
   "cell_type": "markdown",
   "metadata": {},
   "source": [
    "<img src=\"img/Task09_17-1.jpg\">"
   ]
  },
  {
   "cell_type": "markdown",
   "metadata": {},
   "source": [
    "В последний раз зайдите на страницу https://console.developers.google.com/cloud-resource-manager\n",
    "\n",
    "Выберите на своем проекте меню “Настройки” "
   ]
  },
  {
   "cell_type": "markdown",
   "metadata": {},
   "source": [
    "<img src=\"img/Task09_17-2.jpg\">"
   ]
  },
  {
   "cell_type": "markdown",
   "metadata": {},
   "source": [
    "В открывшемся окне выберите “Сервисные аккаунты”, а затем скопируйте и сохраните email сервисного аккаунта. Он пригодится вам, чтобы выдавать доступ к таблицам."
   ]
  },
  {
   "cell_type": "markdown",
   "metadata": {},
   "source": [
    "<img src=\"img/Task09_17-3.jpg\">"
   ]
  },
  {
   "cell_type": "markdown",
   "metadata": {},
   "source": [
    "Теперь переходим к установке библиотек. Выполните в консоли команду \n",
    "```python\n",
    "pip3 install --upgrade google-api-python-client\n",
    "```"
   ]
  },
  {
   "cell_type": "markdown",
   "metadata": {},
   "source": [
    "а затем "
   ]
  },
  {
   "cell_type": "markdown",
   "metadata": {},
   "source": [
    "```python\n",
    "pip3 install oauth2client \n",
    "```"
   ]
  },
  {
   "cell_type": "markdown",
   "metadata": {},
   "source": [
    "Возможно, что при запуске второй команды вы получите сообщение, что библиотека oauth2client уже установлена.   \n",
    "\n",
    "Зайдите на страницу \n",
    "https://raw.githubusercontent.com/gsuitedevs/python-samples/master/sheets/quickstart/quickstart.py\n",
    "\n",
    "Нажмите правую кнопку мышки и выберите “Сохранить как”"
   ]
  },
  {
   "cell_type": "markdown",
   "metadata": {},
   "source": [
    "<img src=\"img/Task09_18.jpg\">"
   ]
  },
  {
   "cell_type": "markdown",
   "metadata": {},
   "source": [
    "Сохраните файл под именем quickstart.py\n",
    "\n",
    "и запустите его командой \n",
    "```python\n",
    "python quickstart.py\n",
    "```"
   ]
  },
  {
   "cell_type": "markdown",
   "metadata": {},
   "source": [
    "Откроется новая страница в браузере (возможно, он скажет, что страница небезопасная, но смело идите вперед) и вам надо будет принять условия. \n",
    "\n",
    "На этом наш путь завершен."
   ]
  },
  {
   "cell_type": "markdown",
   "metadata": {},
   "source": [
    "## Заполнение и форматирование таблицы"
   ]
  },
  {
   "cell_type": "markdown",
   "metadata": {},
   "source": [
    "Создадим первую таблицу"
   ]
  },
  {
   "cell_type": "code",
   "execution_count": 4,
   "metadata": {},
   "outputs": [
    {
     "name": "stdout",
     "output_type": "stream",
     "text": [
      "https://docs.google.com/spreadsheets/d/1UTN-bHphC4oaQCU0zD9u4vyKPWT5YC_94g1WiegJiUk\n"
     ]
    }
   ],
   "source": [
    "# Подключаем библиотеки\n",
    "import httplib2 \n",
    "import apiclient.discovery\n",
    "from oauth2client.service_account import ServiceAccountCredentials\n",
    "\n",
    "CREDENTIALS_FILE = 'seraphic-effect-248407-7ac2c44ec709.json'  # Имя файла с закрытым ключом, вы должны подставить свое\n",
    "\n",
    "# Читаем ключи из файла\n",
    "credentials = ServiceAccountCredentials.from_json_keyfile_name(CREDENTIALS_FILE, ['https://www.googleapis.com/auth/spreadsheets',\n",
    "                                                                                  'https://www.googleapis.com/auth/drive'])\n",
    "\n",
    "httpAuth = credentials.authorize(httplib2.Http()) # Авторизуемся в системе\n",
    "service = apiclient.discovery.build('sheets', 'v4', http = httpAuth) # Выбираем работу с таблицами и 4 версию API \n",
    "\n",
    "spreadsheet = service.spreadsheets().create(body = {\n",
    "    'properties': {'title': 'Первый тестовый документ', 'locale': 'ru_RU'},\n",
    "    'sheets': [{'properties': {'sheetType': 'GRID',\n",
    "                               'sheetId': 0,\n",
    "                               'title': 'Лист номер один',\n",
    "                               'gridProperties': {'rowCount': 100, 'columnCount': 15}}}]\n",
    "}).execute()\n",
    "spreadsheetId = spreadsheet['spreadsheetId']\n",
    "print('https://docs.google.com/spreadsheets/d/' + spreadsheetId)"
   ]
  },
  {
   "cell_type": "markdown",
   "metadata": {},
   "source": [
    "Если все прошло без ошибок - на экран будет выведена ссылка на таблицу. \n",
    "\n",
    "В этой ссылки использован идентификатор файла, мы сохраняем его в переменной spreadsheetId и будем использовать в дальнейшем. \n",
    "\n",
    "Переходите по ней. Google сообщит вам, что у вас нет доступа\n"
   ]
  },
  {
   "cell_type": "markdown",
   "metadata": {},
   "source": [
    "<img src=\"img/Task09_19.jpg\">"
   ]
  },
  {
   "cell_type": "markdown",
   "metadata": {},
   "source": [
    "Не запрашивайте разрешение! Вам придет уведомление, что невозможно доставить письмо с запросом на адрес, который сам Гугл назначил системному аккаунту. А изменить этот адрес нельзя. Возможно, это не работает только в бесплатном режиме.\n",
    "\n",
    "Но мы можем выдать себе доступ через Google Drive. Вам нужно заменить адрес my_test_address@gmail.com на свой."
   ]
  },
  {
   "cell_type": "code",
   "execution_count": 1,
   "metadata": {},
   "outputs": [
    {
     "ename": "NameError",
     "evalue": "name 'apiclient' is not defined",
     "output_type": "error",
     "traceback": [
      "\u001b[1;31m---------------------------------------------------------------------------\u001b[0m",
      "\u001b[1;31mNameError\u001b[0m                                 Traceback (most recent call last)",
      "\u001b[1;32m<ipython-input-1-4f6068719e56>\u001b[0m in \u001b[0;36m<module>\u001b[1;34m\u001b[0m\n\u001b[1;32m----> 1\u001b[1;33m \u001b[0mdriveService\u001b[0m \u001b[1;33m=\u001b[0m \u001b[0mapiclient\u001b[0m\u001b[1;33m.\u001b[0m\u001b[0mdiscovery\u001b[0m\u001b[1;33m.\u001b[0m\u001b[0mbuild\u001b[0m\u001b[1;33m(\u001b[0m\u001b[1;34m'drive'\u001b[0m\u001b[1;33m,\u001b[0m \u001b[1;34m'v3'\u001b[0m\u001b[1;33m,\u001b[0m \u001b[0mhttp\u001b[0m \u001b[1;33m=\u001b[0m \u001b[0mhttpAuth\u001b[0m\u001b[1;33m)\u001b[0m \u001b[1;31m# Выбираем работу с Google Drive и 3 версию API\u001b[0m\u001b[1;33m\u001b[0m\u001b[0m\n\u001b[0m\u001b[0;32m      2\u001b[0m access = driveService.permissions().create(\n\u001b[0;32m      3\u001b[0m     \u001b[0mfileId\u001b[0m \u001b[1;33m=\u001b[0m \u001b[0mspreadsheetId\u001b[0m\u001b[1;33m,\u001b[0m\u001b[1;33m\u001b[0m\u001b[0m\n\u001b[0;32m      4\u001b[0m     \u001b[0mbody\u001b[0m \u001b[1;33m=\u001b[0m \u001b[1;33m{\u001b[0m\u001b[1;34m'type'\u001b[0m\u001b[1;33m:\u001b[0m \u001b[1;34m'user'\u001b[0m\u001b[1;33m,\u001b[0m \u001b[1;34m'role'\u001b[0m\u001b[1;33m:\u001b[0m \u001b[1;34m'writer'\u001b[0m\u001b[1;33m,\u001b[0m \u001b[1;34m'emailAddress'\u001b[0m\u001b[1;33m:\u001b[0m \u001b[1;34m'my_test_address@gmail.com'\u001b[0m\u001b[1;33m}\u001b[0m\u001b[1;33m,\u001b[0m  \u001b[1;31m# Открываем доступ на редактирование\u001b[0m\u001b[1;33m\u001b[0m\u001b[0m\n\u001b[0;32m      5\u001b[0m     \u001b[0mfields\u001b[0m \u001b[1;33m=\u001b[0m \u001b[1;34m'id'\u001b[0m\u001b[1;33m\u001b[0m\u001b[0m\n",
      "\u001b[1;31mNameError\u001b[0m: name 'apiclient' is not defined"
     ]
    }
   ],
   "source": [
    "driveService = apiclient.discovery.build('drive', 'v3', http = httpAuth) # Выбираем работу с Google Drive и 3 версию API\n",
    "access = driveService.permissions().create(\n",
    "    fileId = spreadsheetId,\n",
    "    body = {'type': 'user', 'role': 'writer', 'emailAddress': 'my_test_address@gmail.com'},  # Открываем доступ на редактирование\n",
    "    fields = 'id'\n",
    ").execute()\n"
   ]
  },
  {
   "cell_type": "markdown",
   "metadata": {},
   "source": [
    "Теперь у вас есть доступ, не закрывайте таблицу, мы будем управлять ею и сразу же смотреть на изменения.\n",
    "\n",
    "У каждого документа есть свой код - spreadsheetId - именно от отображается в адресной строке, когда мы открываем таблицу в браузере (в URL-е страницы с открытой таблицей он находится между “https://docs.google.com/spreadsheets/d/” и “/edit#gid=0”).\n",
    "\n",
    "Мы сохранили его в переменной spreadsheetId и дальше будем с ним работать."
   ]
  },
  {
   "cell_type": "markdown",
   "metadata": {},
   "source": [
    "<img src=\"img/Task09_20.jpg\">"
   ]
  },
  {
   "cell_type": "markdown",
   "metadata": {},
   "source": [
    "Сначала немного теории. \n",
    "\n",
    "В каждом файле (spreadsheet) находятся листы-вкладки (sheet). \n",
    "\n",
    "Каждый sheet имеет свой числовой код (sheetId). У первого созданного в документе листа этот код равен 0. Остальные листы имеют сильно отличные от нуля id (т.е. они не нумеруются подряд).\n",
    "\n",
    "Убедимся в этом"
   ]
  },
  {
   "cell_type": "code",
   "execution_count": 6,
   "metadata": {},
   "outputs": [],
   "source": [
    "# Добавление листа\n",
    "results = service.spreadsheets().batchUpdate(\n",
    "    spreadsheetId = spreadsheetId,\n",
    "    body = \n",
    "{\n",
    "  \"requests\": [\n",
    "    {\n",
    "      \"addSheet\": {\n",
    "        \"properties\": {\n",
    "          \"title\": \"Еще один лист\",\n",
    "          \"gridProperties\": {\n",
    "            \"rowCount\": 20,\n",
    "            \"columnCount\": 12\n",
    "          }\n",
    "        }\n",
    "      }\n",
    "    }\n",
    "  ]\n",
    "}).execute()"
   ]
  },
  {
   "cell_type": "code",
   "execution_count": 7,
   "metadata": {},
   "outputs": [
    {
     "name": "stdout",
     "output_type": "stream",
     "text": [
      "0 Лист номер один\n",
      "415832263 Еще один лист\n",
      "Мы будем использовать лист с ID =  0\n"
     ]
    }
   ],
   "source": [
    "# Получаем список листов, их ID и название\n",
    "spreadsheet = service.spreadsheets().get(spreadsheetId = spreadsheetId).execute()\n",
    "sheetList = spreadsheet.get('sheets')\n",
    "for sheet in sheetList:\n",
    "    print(sheet['properties']['sheetId'], sheet['properties']['title'])\n",
    "    \n",
    "sheetId = sheetList[0]['properties']['sheetId']\n",
    "\n",
    "print('Мы будем использовать лист с ID = ', sheetId)"
   ]
  },
  {
   "cell_type": "markdown",
   "metadata": {},
   "source": [
    "В самом деле, первый лист имеет id равный нулю, а второй пронумерован иначе.\n",
    "\n",
    "Еще один вопрос: как указывать диапазоны ячеек.\n",
    "Видимо, таблицы Гугл разрабатывали разные команды, под руководством разных менеджеров и при помощи разных архитекторов.\n",
    "Потому, что координаты ячеек задаются двумя разными способами.\n",
    "\n",
    "Вариант 1: в формате текста \"Лист номер один!B2:D5\", т.е. имя листа, после него восклицательный знак, после - левая верхняя ячейка в формате “буква (колонка) + цифра (строка)” + правая нижняя ячейка в таком же формате.\n",
    "\n",
    "```python\n",
    "{\"range\": \"Лист номер один!B2:D5\"} \n",
    "```\n",
    "\n",
    "Вариант 2: в json-формате, с указанием ID листа и координат левой верхней и правой нижней ячеек в числовом виде (номер строки и номер столбца)\n",
    "```python\n",
    "    'range':\n",
    "    {\n",
    "    'sheetId': sheetId, # ID листа\n",
    "    'startRowIndex': 1, # Со строки номер startRowIndex \n",
    "    'endRowIndex': 5,# по endRowIndex - 1 (endRowIndex не входит!)\n",
    "    'startColumnIndex': 0, # Со столбца номер startColumnIndex \n",
    "    'endColumnIndex': 1 # по endColumnIndex - 1\n",
    "    }\n",
    " ```"
   ]
  },
  {
   "cell_type": "markdown",
   "metadata": {},
   "source": [
    "Разные функции используют разные форматы.\n",
    "\n",
    "Теперь можно заполнить ячейки данными, нарисовать рамку и выделить заголовки."
   ]
  },
  {
   "cell_type": "code",
   "execution_count": 8,
   "metadata": {},
   "outputs": [],
   "source": [
    "results = service.spreadsheets().values().batchUpdate(spreadsheetId = spreadsheetId, body = {\n",
    "    \"valueInputOption\": \"USER_ENTERED\", # Данные воспринимаются, как вводимые пользователем (считается значение формул)\n",
    "    \"data\": [\n",
    "        {\"range\": \"Лист номер один!B2:D5\",\n",
    "         \"majorDimension\": \"ROWS\",     # Сначала заполнять строки, затем столбцы\n",
    "         \"values\": [\n",
    "                    [\"Ячейка B2\", \"Ячейка C2\", \"Ячейка D2\"], # Заполняем первую строку\n",
    "                    ['25', \"=6*6\", \"=sin(3,14/2)\"]  # Заполняем вторую строку\n",
    "                   ]}\n",
    "    ]\n",
    "}).execute()"
   ]
  },
  {
   "cell_type": "markdown",
   "metadata": {},
   "source": [
    "Заполняем несколько ячеек данными. Т.к. указан параметр USER_ENTERED, таблица воспринимает эти данные так, как восприняла бы ввод руками пользователя - преобразует числовые значения в числа, а значения, начинающиеся со знака “равно” в формулы. \n",
    "\n",
    "Посмотрите в вашу таблицу, она заполнилась данными"
   ]
  },
  {
   "cell_type": "markdown",
   "metadata": {},
   "source": [
    "<img src=\"img/Task09_22.jpg\">"
   ]
  },
  {
   "cell_type": "markdown",
   "metadata": {},
   "source": [
    "Зададим ширину колонок. Функция batchUpdate может принимать несколько команд сразу, так что мы одним запросом установим ширину трех групп колонок. В первой и третьей группе одна колонка, а во второй - две."
   ]
  },
  {
   "cell_type": "code",
   "execution_count": 9,
   "metadata": {},
   "outputs": [],
   "source": [
    "results = service.spreadsheets().batchUpdate(spreadsheetId = spreadsheetId, body = {\n",
    "  \"requests\": [\n",
    "\n",
    "    # Задать ширину столбца A: 20 пикселей\n",
    "    {\n",
    "      \"updateDimensionProperties\": {\n",
    "        \"range\": {\n",
    "          \"sheetId\": sheetId,\n",
    "          \"dimension\": \"COLUMNS\",  # Задаем ширину колонки\n",
    "          \"startIndex\": 0,         # Нумерация начинается с нуля\n",
    "          \"endIndex\": 1            # Со столбца номер startIndex по endIndex - 1 (endIndex не входит!)\n",
    "        },\n",
    "        \"properties\": {\n",
    "          \"pixelSize\": 20     # Ширина в пикселях\n",
    "        },\n",
    "        \"fields\": \"pixelSize\"  # Указываем, что нужно использовать параметр pixelSize  \n",
    "      }\n",
    "    },\n",
    "\n",
    "    # Задать ширину столбцов B и C: 150 пикселей\n",
    "    {\n",
    "      \"updateDimensionProperties\": {\n",
    "        \"range\": {\n",
    "          \"sheetId\": sheetId,\n",
    "          \"dimension\": \"COLUMNS\",\n",
    "          \"startIndex\": 1,\n",
    "          \"endIndex\": 3\n",
    "        },\n",
    "        \"properties\": {\n",
    "          \"pixelSize\": 150\n",
    "        },\n",
    "        \"fields\": \"pixelSize\"\n",
    "      }\n",
    "    },\n",
    "\n",
    "    # Задать ширину столбца D: 200 пикселей\n",
    "    {\n",
    "      \"updateDimensionProperties\": {\n",
    "        \"range\": {\n",
    "          \"sheetId\": sheetId,\n",
    "          \"dimension\": \"COLUMNS\",\n",
    "          \"startIndex\": 3,\n",
    "          \"endIndex\": 4\n",
    "        },\n",
    "        \"properties\": {\n",
    "          \"pixelSize\": 200\n",
    "        },\n",
    "        \"fields\": \"pixelSize\"\n",
    "      }\n",
    "    }\n",
    "  ]\n",
    "}).execute()"
   ]
  },
  {
   "cell_type": "markdown",
   "metadata": {},
   "source": [
    "Посмотрите на таблицу, ширины колонок изменились."
   ]
  },
  {
   "cell_type": "markdown",
   "metadata": {},
   "source": [
    "<img src=\"img/Task09_23.jpg\">"
   ]
  },
  {
   "cell_type": "markdown",
   "metadata": {},
   "source": [
    "Нарисуем рамку вокруг таблицы"
   ]
  },
  {
   "cell_type": "code",
   "execution_count": 10,
   "metadata": {},
   "outputs": [],
   "source": [
    "# Рисуем рамку\n",
    "results = service.spreadsheets().batchUpdate(\n",
    "    spreadsheetId = spreadsheetId,\n",
    "    body = {\n",
    "        \"requests\": [\n",
    "            {'updateBorders': {'range': {'sheetId': sheetId,\n",
    "                             'startRowIndex': 1,\n",
    "                             'endRowIndex': 3,\n",
    "                             'startColumnIndex': 1,\n",
    "                             'endColumnIndex': 4},\n",
    "                   'bottom': {  # Задаем стиль для верхней границы\n",
    "                              'style': 'SOLID', # Сплошная линия\n",
    "                              'width': 1,       # Шириной 1 пиксель\n",
    "                              'color': {'red': 0, 'green': 0, 'blue': 0, 'alpha': 1}}, # Черный цвет\n",
    "                   'top': {     # Задаем стиль для нижней границы\n",
    "                              'style': 'SOLID',\n",
    "                              'width': 1,\n",
    "                              'color': {'red': 0, 'green': 0, 'blue': 0, 'alpha': 1}},\n",
    "                   'left': {    # Задаем стиль для левой границы\n",
    "                              'style': 'SOLID',\n",
    "                              'width': 1,\n",
    "                              'color': {'red': 0, 'green': 0, 'blue': 0, 'alpha': 1}},\n",
    "                   'right': {    # Задаем стиль для правой границы\n",
    "                              'style': 'SOLID',\n",
    "                              'width': 1,\n",
    "                              'color': {'red': 0, 'green': 0, 'blue': 0, 'alpha': 1}},\n",
    "                   'innerHorizontal': {   # Задаем стиль для внутренних горизонтальных линий\n",
    "                              'style': 'SOLID',\n",
    "                              'width': 1,\n",
    "                              'color': {'red': 0, 'green': 0, 'blue': 0, 'alpha': 1}},\n",
    "                   'innerVertical': {     # Задаем стиль для внутренних вертикальных линий\n",
    "                              'style': 'SOLID',\n",
    "                              'width': 1,\n",
    "                              'color': {'red': 0, 'green': 0, 'blue': 0, 'alpha': 1}}\n",
    "                              \n",
    "                              }}\n",
    "        ]\n",
    "    }).execute()"
   ]
  },
  {
   "cell_type": "markdown",
   "metadata": {},
   "source": [
    "<img src=\"img/Task09_24.jpg\">"
   ]
  },
  {
   "cell_type": "markdown",
   "metadata": {},
   "source": [
    "Объединим ячейки над таблицей и впишем в них заголовок"
   ]
  },
  {
   "cell_type": "code",
   "execution_count": 11,
   "metadata": {},
   "outputs": [],
   "source": [
    "# Объединяем ячейки A2:D1\n",
    "results = service.spreadsheets().batchUpdate(\n",
    "    spreadsheetId = spreadsheetId,\n",
    "    body = {\n",
    "        \"requests\": [\n",
    "            {'mergeCells': {'range': {'sheetId': sheetId,\n",
    "                          'startRowIndex': 0,\n",
    "                          'endRowIndex': 1,\n",
    "                          'startColumnIndex': 1,\n",
    "                          'endColumnIndex': 4},\n",
    "                'mergeType': 'MERGE_ALL'}}\n",
    "        ]\n",
    "    }).execute()\n",
    "# Добавляем заголовок таблицы\n",
    "results = service.spreadsheets().values().batchUpdate(spreadsheetId = spreadsheetId, body = {\n",
    "    \"valueInputOption\": \"USER_ENTERED\", # Данные воспринимаются, как вводимые пользователем (считается значение формул)\n",
    "    \"data\": [\n",
    "        {\"range\": \"Лист номер один!B1\",\n",
    "         \"majorDimension\": \"ROWS\",     # Сначала заполнять строки, затем столбцы\n",
    "         \"values\": [[\"Заголовок таблицы\" ] \n",
    "                   ]}\n",
    "    ]\n",
    "}).execute()"
   ]
  },
  {
   "cell_type": "markdown",
   "metadata": {},
   "source": [
    "<img src=\"img/Task09_25.jpg\">"
   ]
  },
  {
   "cell_type": "markdown",
   "metadata": {},
   "source": [
    "Установим формат у ячеек заголовка таблицы"
   ]
  },
  {
   "cell_type": "code",
   "execution_count": 12,
   "metadata": {},
   "outputs": [],
   "source": [
    "# Установка формата ячеек\n",
    "results = service.spreadsheets().batchUpdate(\n",
    "    spreadsheetId = spreadsheetId,\n",
    "    body = \n",
    "{\n",
    "  \"requests\": \n",
    "  [\n",
    "    {\n",
    "      \"repeatCell\": \n",
    "      {\n",
    "        \"cell\": \n",
    "        {\n",
    "          \"userEnteredFormat\": \n",
    "          {\n",
    "            \"horizontalAlignment\": 'CENTER',\n",
    "            \"backgroundColor\": {\n",
    "                \"red\": 0.8,\n",
    "                \"green\": 0.8,\n",
    "                \"blue\": 0.8,\n",
    "                \"alpha\": 1\n",
    "            },\n",
    "            \"textFormat\":\n",
    "             {\n",
    "               \"bold\": True,\n",
    "               \"fontSize\": 14\n",
    "             }\n",
    "          }\n",
    "        },\n",
    "        \"range\": \n",
    "        {\n",
    "          \"sheetId\": sheetId,\n",
    "          \"startRowIndex\": 1,\n",
    "          \"endRowIndex\": 2,\n",
    "          \"startColumnIndex\": 1,\n",
    "          \"endColumnIndex\": 4\n",
    "        },\n",
    "        \"fields\": \"userEnteredFormat\"\n",
    "      }\n",
    "    }\n",
    "  ]\n",
    "}).execute()"
   ]
  },
  {
   "cell_type": "markdown",
   "metadata": {},
   "source": [
    "<img src=\"img/Task09_26.jpg\">"
   ]
  },
  {
   "cell_type": "markdown",
   "metadata": {},
   "source": [
    "Есть простой способ узнать, какую ширину или цвет нужно задать ячейке.\n",
    "Для этого достаточно вручную отформатировать одну из ячеек и прочитать ее свойства."
   ]
  },
  {
   "cell_type": "code",
   "execution_count": 16,
   "metadata": {},
   "outputs": [
    {
     "name": "stdout",
     "output_type": "stream",
     "text": [
      "Основные данные\n",
      "{'title': 'Первый тестовый документ', 'locale': 'ru_RU', 'autoRecalc': 'ON_CHANGE', 'timeZone': 'Etc/GMT', 'defaultFormat': {'backgroundColor': {'red': 1, 'green': 1, 'blue': 1}, 'padding': {'top': 2, 'right': 3, 'bottom': 2, 'left': 3}, 'verticalAlignment': 'BOTTOM', 'wrapStrategy': 'OVERFLOW_CELL', 'textFormat': {'foregroundColor': {}, 'fontFamily': 'arial,sans,sans-serif', 'fontSize': 10, 'bold': False, 'italic': False, 'strikethrough': False, 'underline': False}}}\n",
      "\n",
      "Значения и раскраска\n",
      "[{'values': [{'userEnteredValue': {'stringValue': 'Ячейка C2'}, 'effectiveValue': {'stringValue': 'Ячейка C2'}, 'formattedValue': 'Ячейка C2', 'userEnteredFormat': {'backgroundColor': {'red': 1, 'green': 0.6}, 'horizontalAlignment': 'CENTER', 'textFormat': {'fontSize': 14, 'bold': True, 'italic': True}}, 'effectiveFormat': {'backgroundColor': {'red': 1, 'green': 0.6}, 'padding': {'top': 2, 'right': 3, 'bottom': 2, 'left': 3}, 'horizontalAlignment': 'CENTER', 'verticalAlignment': 'BOTTOM', 'wrapStrategy': 'OVERFLOW_CELL', 'textFormat': {'foregroundColor': {}, 'fontFamily': 'Arial', 'fontSize': 14, 'bold': True, 'italic': True, 'strikethrough': False, 'underline': False}, 'hyperlinkDisplayType': 'PLAIN_TEXT'}}]}]\n",
      "\n",
      "Высота ячейки\n",
      "[{'pixelSize': 21}]\n",
      "\n",
      "Ширина ячейки\n",
      "[{'pixelSize': 150}]\n"
     ]
    }
   ],
   "source": [
    "ranges = [\"Лист номер один!C2:C2\"] # \n",
    "          \n",
    "results = service.spreadsheets().get(spreadsheetId = spreadsheetId, \n",
    "                                     ranges = ranges, includeGridData = True).execute()\n",
    "print('Основные данные')\n",
    "print(results['properties'])\n",
    "print('\\nЗначения и раскраска')\n",
    "print(results['sheets'][0]['data'][0]['rowData'] )\n",
    "print('\\nВысота ячейки')\n",
    "print(results['sheets'][0]['data'][0]['rowMetadata'])\n",
    "print('\\nШирина ячейки')\n",
    "print(results['sheets'][0]['data'][0]['columnMetadata'])\n"
   ]
  },
  {
   "cell_type": "markdown",
   "metadata": {},
   "source": [
    "Этот код выведет свойства ячейки C2. Можно выбрать шрифт и цвет заливки вручную (в таблице), в потом увидеть, как они отражаются в json."
   ]
  },
  {
   "cell_type": "markdown",
   "metadata": {},
   "source": [
    "## Чтение данных из таблицы"
   ]
  },
  {
   "cell_type": "markdown",
   "metadata": {},
   "source": [
    "Чтобы особенности чтения данных проявились в полной мере, я вручную заполнил ячейки B4, C7 и D5 как показано на рисунке."
   ]
  },
  {
   "cell_type": "markdown",
   "metadata": {},
   "source": [
    "<img src=\"img/Task09_27.jpg\">"
   ]
  },
  {
   "cell_type": "markdown",
   "metadata": {},
   "source": [
    "Код для чтения данных"
   ]
  },
  {
   "cell_type": "code",
   "execution_count": 53,
   "metadata": {},
   "outputs": [
    {
     "data": {
      "text/plain": [
       "[['', 'Ячейка B2', 'Ячейка C2', 'Ячейка D2'], ['', '25', '36', '0,9999996829']]"
      ]
     },
     "execution_count": 53,
     "metadata": {},
     "output_type": "execute_result"
    }
   ],
   "source": [
    "ranges = [\"Лист номер один!A2:F8\"] # \n",
    "          \n",
    "results = service.spreadsheets().values().batchGet(spreadsheetId = spreadsheetId, \n",
    "                                     ranges = ranges, \n",
    "                                     valueRenderOption = 'FORMATTED_VALUE',  \n",
    "                                     dateTimeRenderOption = 'FORMATTED_STRING').execute() \n",
    "sheet_values = results['valueRanges'][0]['values']\n",
    "sheet_values\n"
   ]
  },
  {
   "cell_type": "markdown",
   "metadata": {},
   "source": [
    "Некоторые параметры функции:\n",
    "valueRenderOption - формат чтения числовых данных.\n",
    "- <b>FORMATTED_VALUE</b>  - чтение с учетом формата отображения. Т.е. что было видно в таблице, то и прочитается. Например, в ячейке D3 число 0,9999999, но выбран формат “два знака после запятой”, поэтому отображается “1,00”, именно в таком формате оно и прочитается.\n",
    "- <b>UNFORMATTED_VALUE</b> - читается содержимое ячейки, без учета настроек форматирование (т.е. прочиталось бы 0,9999999)\n",
    "- <b>FORMULA</b> - отображается формула (в этом случае “=sin(3,14/2)”. Если в ячейке введено число, то в этом режиме оно и прочитается."
   ]
  },
  {
   "cell_type": "markdown",
   "metadata": {},
   "source": [
    "Этот код читает данные и построчно выводит их на экран.\n",
    "Читаемый диапазон A2:F8.\n",
    "\n",
    "Как видно на экране:\n",
    "1. Если ни одна ячейка в читаемой строке не заполнена - данные по строке не выводятся.\n",
    "2. Данные после последней заполненной ячейки не выводятся.\n"
   ]
  },
  {
   "cell_type": "code",
   "execution_count": null,
   "metadata": {},
   "outputs": [],
   "source": []
  }
 ],
 "metadata": {
  "kernelspec": {
   "display_name": "Python 3",
   "language": "python",
   "name": "python3"
  },
  "language_info": {
   "codemirror_mode": {
    "name": "ipython",
    "version": 3
   },
   "file_extension": ".py",
   "mimetype": "text/x-python",
   "name": "python",
   "nbconvert_exporter": "python",
   "pygments_lexer": "ipython3",
   "version": "3.6.6"
  }
 },
 "nbformat": 4,
 "nbformat_minor": 2
}
